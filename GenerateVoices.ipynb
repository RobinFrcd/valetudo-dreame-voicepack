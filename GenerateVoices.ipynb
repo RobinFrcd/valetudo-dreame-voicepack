{
 "cells": [
  {
   "cell_type": "code",
   "execution_count": 11,
   "id": "6196dd7c-5bf8-4631-9881-8fd665934bd7",
   "metadata": {},
   "outputs": [],
   "source": [
    "import os\n",
    "import os.path\n",
    "import time\n",
    "\n",
    "import fakeyou\n",
    "import pandas as pd\n",
    "import requests\n",
    "\n",
    "from tqdm.autonotebook import tqdm"
   ]
  },
  {
   "cell_type": "markdown",
   "id": "f35ada9c-8122-481a-946b-09c358a3f2f0",
   "metadata": {},
   "source": [
    "# FakeYou"
   ]
  },
  {
   "cell_type": "code",
   "execution_count": 12,
   "id": "08467f87-4ad3-4b97-9752-e7685c88c8ba",
   "metadata": {},
   "outputs": [],
   "source": [
    "SAVE_FOLDER = os.path.join('voice_packs', 'Queen_Elizabeth', 'wav')\n",
    "os.makedirs(SAVE_FOLDER, exist_ok=True)\n",
    "\n",
    "VOICE_ID = 'TM:4jhmevqnrqp5' # https://fakeyou.com/tts/TM:4hqn3k5v1060\n",
    "FY_USER=''\n",
    "FY_PWD=''"
   ]
  },
  {
   "cell_type": "code",
   "execution_count": 13,
   "id": "b0dcf6f3-5d89-4927-9c1e-06da937bd6a5",
   "metadata": {},
   "outputs": [],
   "source": [
    "df = pd.read_csv('./sound_list.csv', names=['file', 'text'])\n",
    "fy = fakeyou.FakeYou()"
   ]
  },
  {
   "cell_type": "code",
   "execution_count": 4,
   "id": "59929f02-5304-4cd9-a15e-da36b91d11c0",
   "metadata": {},
   "outputs": [
    {
     "data": {
      "text/plain": [
       "<fakeyou.objects.login at 0x7f7dcd6a3070>"
      ]
     },
     "execution_count": 4,
     "metadata": {},
     "output_type": "execute_result"
    }
   ],
   "source": [
    "fy.login(\n",
    "    username=FY_USER, \n",
    "    password=FY_PWD\n",
    ")"
   ]
  },
  {
   "cell_type": "code",
   "execution_count": 5,
   "id": "ada1a3cb-59f8-4dd7-9b9b-9e5cf79cd5fe",
   "metadata": {},
   "outputs": [],
   "source": [
    "def text2wav(text: str, file_name: str):\n",
    "    if not text.endswith('.') and not text.endswith('!'):\n",
    "        text += '!'\n",
    "    res = fy.make_tts_job(text=text, ttsModelToken=VOICE_ID)\n",
    "    wav = fy.tts_poll(res)\n",
    "    wav.save(os.path.join(SAVE_FOLDER, file_name))"
   ]
  },
  {
   "cell_type": "code",
   "execution_count": 6,
   "id": "cc9dd017-7f34-4c4d-bec2-32137c68e292",
   "metadata": {},
   "outputs": [
    {
     "data": {
      "application/vnd.jupyter.widget-view+json": {
       "model_id": "b5b968773b914f6d8d4383126514dc24",
       "version_major": 2,
       "version_minor": 0
      },
      "text/plain": [
       "  0%|          | 0/39 [00:00<?, ?it/s]"
      ]
     },
     "metadata": {},
     "output_type": "display_data"
    },
    {
     "name": "stdout",
     "output_type": "stream",
     "text": [
      "Failed, Too many requests, try again later.. Retrying in 5sec\n",
      "Failed, Too many requests, try again later.. Retrying in 5sec\n",
      "Failed, check token and text/file, or try again. Retrying in 5sec\n",
      "Failed, Too many requests, try again later.. Retrying in 5sec\n",
      "Failed, Too many requests, try again later.. Retrying in 5sec\n",
      "Failed, check token and text/file, or try again. Retrying in 5sec\n",
      "Failed, Too many requests, try again later.. Retrying in 5sec\n",
      "Failed, Too many requests, try again later.. Retrying in 5sec\n",
      "Failed, check token and text/file, or try again. Retrying in 5sec\n"
     ]
    }
   ],
   "source": [
    "df_select = df[116:]\n",
    "for i, row in tqdm(df_select.iterrows(), total=len(df_select)):\n",
    "    while True:\n",
    "        try:\n",
    "            file = row['file'].replace('.ogg', '.wav')\n",
    "            text2wav(text=row['text'], file_name=file)\n",
    "            break\n",
    "        except Exception as e:\n",
    "            print(f'Failed, {e}. Retrying in 5sec')\n",
    "            time.sleep(5)"
   ]
  },
  {
   "cell_type": "markdown",
   "id": "1a177594-bb1c-46cc-b7f7-22a6377f9b45",
   "metadata": {},
   "source": [
    "# ElevenLabs"
   ]
  },
  {
   "cell_type": "code",
   "execution_count": 14,
   "id": "e0958f79-9ffb-4d09-854e-cccaabffe54c",
   "metadata": {},
   "outputs": [],
   "source": [
    "VOICE_ID = ''\n",
    "EL_TOKEN = ''"
   ]
  },
  {
   "cell_type": "code",
   "execution_count": 17,
   "id": "56619c0f-e49e-4961-8604-9b73f28008a0",
   "metadata": {},
   "outputs": [],
   "source": [
    "def generate_elevenlabs_voice(txt: str, path: str):\n",
    "    CHUNK_SIZE = 1024\n",
    "    url = f\"https://api.elevenlabs.io/v1/text-to-speech/{VOICE_ID}\"\n",
    "    \n",
    "    headers = {\n",
    "      \"Accept\": \"audio/mpeg\",\n",
    "      \"Content-Type\": \"application/json\",\n",
    "      \"xi-api-key\": EL_TOKEN\n",
    "    }\n",
    "    \n",
    "    data = {\n",
    "      \"text\": txt,\n",
    "      \"model_id\": \"eleven_multilingual_v2\",\n",
    "      \"voice_settings\": {\n",
    "        \"stability\": 0.5,\n",
    "        \"similarity_boost\": 0.5,\n",
    "        \"use_speaker_boost\": True\n",
    "      }\n",
    "    }\n",
    "    \n",
    "    response = requests.post(url, json=data, headers=headers)\n",
    "\n",
    "    os.makedirs(os.path.dirname(path), exist_ok=True)\n",
    "    with open(path, 'wb') as f:\n",
    "        for chunk in response.iter_content(chunk_size=CHUNK_SIZE):\n",
    "            if chunk:\n",
    "                f.write(chunk)"
   ]
  },
  {
   "cell_type": "code",
   "execution_count": 19,
   "id": "7dc64b86-f423-459a-9310-1305e40cb418",
   "metadata": {},
   "outputs": [
    {
     "data": {
      "application/vnd.jupyter.widget-view+json": {
       "model_id": "cf8674dd172445c7bfee9b57bec84db0",
       "version_major": 2,
       "version_minor": 0
      },
      "text/plain": [
       "  0%|          | 0/155 [00:00<?, ?it/s]"
      ]
     },
     "metadata": {},
     "output_type": "display_data"
    }
   ],
   "source": [
    "df_select = df[:]\n",
    "for i, row in tqdm(df_select.iterrows(), total=len(df_select)):\n",
    "    while True:\n",
    "        try:\n",
    "            file = row['file'].replace('.ogg', '.wav')\n",
    "            generate_elevenlabs_voice(\n",
    "                row['text'], \n",
    "                os.path.join('voice_packs', 'Queen_Elizabeth', 'wav', file)\n",
    "            )\n",
    "            break\n",
    "        except Exception as e:\n",
    "            print(f'Failed, {e}. Retrying in 5sec')\n",
    "            time.sleep(5)"
   ]
  },
  {
   "cell_type": "code",
   "execution_count": null,
   "id": "9c6365b1-3f0f-469c-ad99-55d92a2f3f3b",
   "metadata": {},
   "outputs": [],
   "source": []
  }
 ],
 "metadata": {
  "kernelspec": {
   "display_name": "Python 3 (ipykernel)",
   "language": "python",
   "name": "python3"
  },
  "language_info": {
   "codemirror_mode": {
    "name": "ipython",
    "version": 3
   },
   "file_extension": ".py",
   "mimetype": "text/x-python",
   "name": "python",
   "nbconvert_exporter": "python",
   "pygments_lexer": "ipython3",
   "version": "3.10.6"
  }
 },
 "nbformat": 4,
 "nbformat_minor": 5
}
