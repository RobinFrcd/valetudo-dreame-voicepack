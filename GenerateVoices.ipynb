{
 "cells": [
  {
   "cell_type": "code",
   "execution_count": null,
   "id": "6196dd7c-5bf8-4631-9881-8fd665934bd7",
   "metadata": {},
   "outputs": [],
   "source": [
    "import os\n",
    "import time\n",
    "\n",
    "import fakeyou\n",
    "import pandas as pd\n",
    "\n",
    "from tqdm.autonotebook import tqdm"
   ]
  },
  {
   "cell_type": "code",
   "execution_count": null,
   "id": "08467f87-4ad3-4b97-9752-e7685c88c8ba",
   "metadata": {},
   "outputs": [],
   "source": [
    "SAVE_FOLDER = os.path.join('voice_packs', 'mj', 'wav')\n",
    "os.makedirs(SAVE_FOLDER, exist_ok=True)\n",
    "\n",
    "VOICE_ID = 'TM:4hqn3k5v1060' # https://fakeyou.com/tts/TM:4hqn3k5v1060\n",
    "FY_USER=''\n",
    "FY_PWD=''"
   ]
  },
  {
   "cell_type": "code",
   "execution_count": null,
   "id": "b0dcf6f3-5d89-4927-9c1e-06da937bd6a5",
   "metadata": {},
   "outputs": [],
   "source": [
    "df = pd.read_csv('./sound_list.csv', names=['file', 'text'])\n",
    "fy = fakeyou.FakeYou()"
   ]
  },
  {
   "cell_type": "code",
   "execution_count": null,
   "id": "59929f02-5304-4cd9-a15e-da36b91d11c0",
   "metadata": {},
   "outputs": [],
   "source": [
    "fy.login(\n",
    "    username=FY_USER, \n",
    "    password=FY_PWD\n",
    ")"
   ]
  },
  {
   "cell_type": "code",
   "execution_count": null,
   "id": "ada1a3cb-59f8-4dd7-9b9b-9e5cf79cd5fe",
   "metadata": {},
   "outputs": [],
   "source": [
    "def text2wav(text: str, file_name: str):\n",
    "    if not text.endswith('.') and not text.endswith('!'):\n",
    "        text += '!'\n",
    "    res = fy.make_tts_job(text=text, ttsModelToken=VOICE_ID)\n",
    "    wav = fy.tts_poll(res)\n",
    "    wav.save(os.path.join(SAVE_FOLDER, file_name))"
   ]
  },
  {
   "cell_type": "code",
   "execution_count": null,
   "id": "cc9dd017-7f34-4c4d-bec2-32137c68e292",
   "metadata": {},
   "outputs": [],
   "source": [
    "df_select = df[:]\n",
    "for i, row in tqdm(df_select.iterrows(), total=len(df_select)):\n",
    "    while True:\n",
    "        try:\n",
    "            file = row['file'].replace('.ogg', '.wav')\n",
    "            text2wav(text=row['text'], file_name=file)\n",
    "            break\n",
    "        except Exception as e:\n",
    "            print(f'Failed, {e}. Retrying in 5sec')\n",
    "            time.sleep(5)"
   ]
  },
  {
   "cell_type": "code",
   "execution_count": null,
   "id": "7f3a0292-ec05-459c-a8e3-aa17609f7c96",
   "metadata": {},
   "outputs": [],
   "source": []
  }
 ],
 "metadata": {
  "kernelspec": {
   "display_name": "Python 3 (ipykernel)",
   "language": "python",
   "name": "python3"
  },
  "language_info": {
   "codemirror_mode": {
    "name": "ipython",
    "version": 3
   },
   "file_extension": ".py",
   "mimetype": "text/x-python",
   "name": "python",
   "nbconvert_exporter": "python",
   "pygments_lexer": "ipython3",
   "version": "3.9.13"
  }
 },
 "nbformat": 4,
 "nbformat_minor": 5
}
